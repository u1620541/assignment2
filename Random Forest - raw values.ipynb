{
 "cells": [
  {
   "cell_type": "code",
   "execution_count": 1,
   "metadata": {},
   "outputs": [
    {
     "name": "stdout",
     "output_type": "stream",
     "text": [
      "1.64044904709\n"
     ]
    }
   ],
   "source": [
    "import os.path as op\n",
    "import pandas as pd\n",
    "import numpy as np\n",
    "\n",
    "%matplotlib inline\n",
    "import matplotlib.pyplot as pyplot\n",
    "\n",
    "import time\n",
    "\n",
    "from sklearn.ensemble import RandomForestClassifier\n",
    "\n",
    "#path_to_data = op.relpath(\"/modules/cs342/Assignment2/\")\n",
    "path_to_data = \"./data\"\n",
    "\n",
    "start_time = time.time()\n",
    "\n",
    "light_curves = pd.read_csv(path_to_data + \"/training_set.csv\")\n",
    "metadata     = pd.read_csv(path_to_data + \"/training_set_metadata.csv\")\n",
    "\n",
    "target = metadata[\"target\"]\n",
    "metadata = metadata.drop(\"target\", axis = 1)\n",
    "\n",
    "metadata = metadata.drop([\"ra\", \"decl\", \"gal_l\", \"gal_b\"], axis=1)\n",
    "\n",
    "print time.time() - start_time"
   ]
  },
  {
   "cell_type": "code",
   "execution_count": 2,
   "metadata": {},
   "outputs": [
    {
     "name": "stdout",
     "output_type": "stream",
     "text": [
      "97.5265870094\n"
     ]
    }
   ],
   "source": [
    "training_set = metadata.copy()\n",
    "\n",
    "curves_index = 0\n",
    "time_in_loc = 0\n",
    "\n",
    "start_time = time.time()\n",
    "\n",
    "curves_subdf = pd.DataFrame(columns=[\"u_band\", \"g_band\", \"r_band\", \"i_band\", \"z_band\", \"y_band\"], index=xrange(len(training_set)))\n",
    "\n",
    "\n",
    "\n",
    "for i, current_id in enumerate(metadata[\"object_id\"]):\n",
    "    start_index = curves_index\n",
    "    while light_curves.at[curves_index,\"object_id\"] == current_id:\n",
    "        curves_index += 1\n",
    "        if curves_index == len(light_curves): break\n",
    "        \n",
    "    sub_curves = light_curves.loc[start_index:curves_index-1, :].drop(\"object_id\", axis=1)\n",
    "    # set t=0 to first observation\n",
    "    sub_curves[\"mjd\"] -= sub_curves.at[start_index,\"mjd\"]\n",
    "    curves_subdf.at[i,\"u_band\"] = sub_curves[sub_curves.passband == 0].drop(\"passband\", axis=1).values\n",
    "    curves_subdf.at[i,\"g_band\"] = sub_curves[sub_curves.passband == 1].drop(\"passband\", axis=1).values\n",
    "    curves_subdf.at[i,\"r_band\"] = sub_curves[sub_curves.passband == 2].drop(\"passband\", axis=1).values\n",
    "    curves_subdf.at[i,\"i_band\"] = sub_curves[sub_curves.passband == 3].drop(\"passband\", axis=1).values\n",
    "    curves_subdf.at[i,\"z_band\"] = sub_curves[sub_curves.passband == 4].drop(\"passband\", axis=1).values\n",
    "    curves_subdf.at[i,\"y_band\"] = sub_curves[sub_curves.passband == 5].drop(\"passband\", axis=1).values\n",
    "\n",
    "training_set = pd.concat([\n",
    "    training_set,\n",
    "    curves_subdf\n",
    "], sort=False, axis=1)\n",
    "    \n",
    "print time.time() - start_time\n"
   ]
  },
  {
   "cell_type": "code",
   "execution_count": null,
   "metadata": {},
   "outputs": [],
   "source": []
  },
  {
   "cell_type": "code",
   "execution_count": null,
   "metadata": {},
   "outputs": [],
   "source": []
  }
 ],
 "metadata": {
  "kernelspec": {
   "display_name": "Python 2",
   "language": "python",
   "name": "python2"
  },
  "language_info": {
   "codemirror_mode": {
    "name": "ipython",
    "version": 2
   },
   "file_extension": ".py",
   "mimetype": "text/x-python",
   "name": "python",
   "nbconvert_exporter": "python",
   "pygments_lexer": "ipython2",
   "version": "2.7.12"
  }
 },
 "nbformat": 4,
 "nbformat_minor": 2
}

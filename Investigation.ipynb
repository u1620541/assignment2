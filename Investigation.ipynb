{
 "cells": [
  {
   "cell_type": "code",
   "execution_count": 7,
   "metadata": {
    "collapsed": false,
    "scrolled": true
   },
   "outputs": [],
   "source": [
    "import os.path as op\n",
    "import pandas as pd\n",
    "import numpy as np\n",
    "\n",
    "path_to_data = op.relpath(\"/modules/cs342/Assignment2/\")\n",
    "\n",
    "light_curves = pd.read_csv(path_to_data + \"/training_set.csv\")\n",
    "metadata     = pd.read_csv(path_to_data + \"/training_set_metadata.csv\")\n",
    "\n",
    "target = metadata[\"target\"]\n",
    "metadata = metadata.drop(\"target\", axis = 1)"
   ]
  },
  {
   "cell_type": "code",
   "execution_count": null,
   "metadata": {
    "collapsed": false
   },
   "outputs": [
    {
     "name": "stdout",
     "output_type": "stream",
     "text": [
      "352\n",
      "702\n",
      "1032\n",
      "1383\n",
      "1735\n",
      "2065\n",
      "2417\n",
      "2769\n",
      "3024\n",
      "3279\n",
      "3630\n",
      "3982\n",
      "4333\n",
      "4684\n",
      "5036\n",
      "5386\n",
      "5738"
     ]
    }
   ],
   "source": [
    "training_set = metadata.copy()\n",
    "training_set = pd.concat([\n",
    "    training_set,\n",
    "    pd.DataFrame(columns=[\"u_band\", \"g_band\", \"r_band\", \"i_band\", \"z_band\", \"y_band\"])\n",
    "], sort=False)\n",
    "\n",
    "curves_index = 0\n",
    "\n",
    "for _, row in training_set.iterrows():\n",
    "    sub_curves = pd.DataFrame()\n",
    "\n",
    "   \n",
    "    while light_curves.loc[curves_index,\"object_id\"] == row[\"object_id\"]:\n",
    "        sub_curves = pd.concat([sub_curves, light_curves.loc[curves_index,:].to_frame().T], join=\"outer\", sort = False)\n",
    "        curves_index += 1\n",
    "    print curves_index\n",
    "    \n"
   ]
  },
  {
   "cell_type": "code",
   "execution_count": null,
   "metadata": {
    "collapsed": true
   },
   "outputs": [],
   "source": []
  }
 ],
 "metadata": {
  "kernelspec": {
   "display_name": "Python 2",
   "language": "python",
   "name": "python2"
  },
  "language_info": {
   "codemirror_mode": {
    "name": "ipython",
    "version": 2
   },
   "file_extension": ".py",
   "mimetype": "text/x-python",
   "name": "python",
   "nbconvert_exporter": "python",
   "pygments_lexer": "ipython2",
   "version": "2.7.5"
  }
 },
 "nbformat": 4,
 "nbformat_minor": 2
}
